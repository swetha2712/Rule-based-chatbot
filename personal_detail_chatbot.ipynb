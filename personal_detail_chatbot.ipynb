{
  "nbformat": 4,
  "nbformat_minor": 0,
  "metadata": {
    "colab": {
      "name": "personal detail chatbot",
      "provenance": [],
      "collapsed_sections": [],
      "authorship_tag": "ABX9TyOahjyBBrnbwuZT5PeKbcW0",
      "include_colab_link": true
    },
    "kernelspec": {
      "name": "python3",
      "display_name": "Python 3"
    },
    "language_info": {
      "name": "python"
    }
  },
  "cells": [
    {
      "cell_type": "markdown",
      "metadata": {
        "id": "view-in-github",
        "colab_type": "text"
      },
      "source": [
        "<a href=\"https://colab.research.google.com/github/swetha2712/Rule-based-chatbot/blob/main/personal_detail_chatbot.ipynb\" target=\"_parent\"><img src=\"https://colab.research.google.com/assets/colab-badge.svg\" alt=\"Open In Colab\"/></a>"
      ]
    },
    {
      "cell_type": "code",
      "metadata": {
        "colab": {
          "base_uri": "https://localhost:8080/"
        },
        "id": "_ST_Xsz6yFCO",
        "outputId": "efedf796-4cf1-41aa-b164-ffefd467911f"
      },
      "source": [
        "!pip install chatterbot"
      ],
      "execution_count": null,
      "outputs": [
        {
          "output_type": "stream",
          "text": [
            "Collecting chatterbot\n",
            "\u001b[?25l  Downloading https://files.pythonhosted.org/packages/7c/21/85c2b114bd9dfabdd46ba58fc4519acdaed45d8c70898d40079e37a45e67/ChatterBot-1.0.8-py2.py3-none-any.whl (63kB)\n",
            "\r\u001b[K     |█████▏                          | 10kB 15.4MB/s eta 0:00:01\r\u001b[K     |██████████▎                     | 20kB 17.8MB/s eta 0:00:01\r\u001b[K     |███████████████▌                | 30kB 12.6MB/s eta 0:00:01\r\u001b[K     |████████████████████▋           | 40kB 9.1MB/s eta 0:00:01\r\u001b[K     |█████████████████████████▊      | 51kB 4.2MB/s eta 0:00:01\r\u001b[K     |███████████████████████████████ | 61kB 4.9MB/s eta 0:00:01\r\u001b[K     |████████████████████████████████| 71kB 3.5MB/s \n",
            "\u001b[?25hRequirement already satisfied: python-dateutil<2.9,>=2.8 in /usr/local/lib/python3.7/dist-packages (from chatterbot) (2.8.1)\n",
            "Collecting sqlalchemy<1.4,>=1.3\n",
            "\u001b[?25l  Downloading https://files.pythonhosted.org/packages/31/44/a86070dda790ce94cd7d9fb9281cd614c7d30850ed774ace9a84d0d5d491/SQLAlchemy-1.3.24-cp37-cp37m-manylinux2010_x86_64.whl (1.3MB)\n",
            "\u001b[K     |████████████████████████████████| 1.3MB 8.1MB/s \n",
            "\u001b[?25hCollecting mathparse<0.2,>=0.1\n",
            "  Downloading https://files.pythonhosted.org/packages/c3/e5/4910fb85950cb960fcf3f5aabe1c8e55f5c9201788a1c1302b570a7e1f84/mathparse-0.1.2-py3-none-any.whl\n",
            "Requirement already satisfied: pytz in /usr/local/lib/python3.7/dist-packages (from chatterbot) (2018.9)\n",
            "Requirement already satisfied: six>=1.5 in /usr/local/lib/python3.7/dist-packages (from python-dateutil<2.9,>=2.8->chatterbot) (1.15.0)\n",
            "Installing collected packages: sqlalchemy, mathparse, chatterbot\n",
            "  Found existing installation: SQLAlchemy 1.4.3\n",
            "    Uninstalling SQLAlchemy-1.4.3:\n",
            "      Successfully uninstalled SQLAlchemy-1.4.3\n",
            "Successfully installed chatterbot-1.0.8 mathparse-0.1.2 sqlalchemy-1.3.24\n"
          ],
          "name": "stdout"
        }
      ]
    },
    {
      "cell_type": "code",
      "metadata": {
        "colab": {
          "base_uri": "https://localhost:8080/"
        },
        "id": "7LxnXc0cyV3W",
        "outputId": "2fa5157c-2c5f-4119-9305-b0b3fc437e51"
      },
      "source": [
        "!pip install chatterbot_corpus"
      ],
      "execution_count": null,
      "outputs": [
        {
          "output_type": "stream",
          "text": [
            "Collecting chatterbot_corpus\n",
            "\u001b[?25l  Downloading https://files.pythonhosted.org/packages/ed/19/f8b41daf36fe4b0f43e283a820362ffdb2c1128600ab4ee187e84262fa4d/chatterbot_corpus-1.2.0-py2.py3-none-any.whl (117kB)\n",
            "\r\u001b[K     |██▉                             | 10kB 10.1MB/s eta 0:00:01\r\u001b[K     |█████▋                          | 20kB 15.7MB/s eta 0:00:01\r\u001b[K     |████████▍                       | 30kB 11.3MB/s eta 0:00:01\r\u001b[K     |███████████▏                    | 40kB 9.4MB/s eta 0:00:01\r\u001b[K     |██████████████                  | 51kB 4.2MB/s eta 0:00:01\r\u001b[K     |████████████████▊               | 61kB 4.5MB/s eta 0:00:01\r\u001b[K     |███████████████████▋            | 71kB 4.7MB/s eta 0:00:01\r\u001b[K     |██████████████████████▍         | 81kB 5.0MB/s eta 0:00:01\r\u001b[K     |█████████████████████████▏      | 92kB 5.3MB/s eta 0:00:01\r\u001b[K     |████████████████████████████    | 102kB 5.7MB/s eta 0:00:01\r\u001b[K     |██████████████████████████████▊ | 112kB 5.7MB/s eta 0:00:01\r\u001b[K     |████████████████████████████████| 122kB 5.7MB/s \n",
            "\u001b[?25hRequirement already satisfied: PyYAML<4.0,>=3.12 in /usr/local/lib/python3.7/dist-packages (from chatterbot_corpus) (3.13)\n",
            "Installing collected packages: chatterbot-corpus\n",
            "Successfully installed chatterbot-corpus-1.2.0\n"
          ],
          "name": "stdout"
        }
      ]
    },
    {
      "cell_type": "code",
      "metadata": {
        "id": "HwKgcJ0gycMc"
      },
      "source": [
        "from chatterbot import ChatBot"
      ],
      "execution_count": null,
      "outputs": []
    },
    {
      "cell_type": "code",
      "metadata": {
        "id": "Y9WdmTCVyeys"
      },
      "source": [
        "bot = ChatBot('Zuzu')"
      ],
      "execution_count": null,
      "outputs": []
    },
    {
      "cell_type": "code",
      "metadata": {
        "id": "RNj4UGvDyjos"
      },
      "source": [
        "bot = ChatBot(\n",
        "    'Zuzu',\n",
        "    storage_adapter='chatterbot.storage.SQLStorageAdapter',\n",
        "    database_uri='sqlite:///database.sqlite3'\n",
        ")"
      ],
      "execution_count": null,
      "outputs": []
    },
    {
      "cell_type": "code",
      "metadata": {
        "id": "zr6JiAlvyqlE"
      },
      "source": [
        "bot = ChatBot(\n",
        "    'Zuzu',  \n",
        "    logic_adapters=[\n",
        "        'chatterbot.logic.BestMatch',\n",
        "        'chatterbot.logic.TimeLogicAdapter'],\n",
        ")"
      ],
      "execution_count": null,
      "outputs": []
    },
    {
      "cell_type": "code",
      "metadata": {
        "colab": {
          "base_uri": "https://localhost:8080/"
        },
        "id": "FR0n9RMqywbc",
        "outputId": "4e2e6bee-fe2e-4721-a693-1e14bf807870"
      },
      "source": [
        "from chatterbot.trainers import ListTrainer\n",
        "\n",
        "trainer = ListTrainer(bot)\n",
        "\n",
        "trainer.train([\n",
        "'Hi',\n",
        "'Hello',\n",
        "'I am fine.',\n",
        "'how are you?',\n",
        "'I am fine.',\n",
        "'May i know your personal details?',\n",
        "'what is DOB?',\n",
        "\n",
        "'what is your date of birth?',\n",
        "'what is your address?',\n",
        "'You are from which place?',\n",
        "'Your native please!!',\n",
        "'what is your gender?',\n",
        "'Have a nice day thank you!!',\n",
        "'I have a complaint.',\n",
        "'Please elaborate, your concern',\n",
        "'How long it will take to receive an order ?',\n",
        "'An order takes 3-5 Business days to get delivered.',\n",
        "'Okay Thanks',\n",
        "'No Problem! Have a Good Day!'\n",
        "])"
      ],
      "execution_count": null,
      "outputs": [
        {
          "output_type": "stream",
          "text": [
            "List Trainer: [####################] 100%\n"
          ],
          "name": "stdout"
        }
      ]
    },
    {
      "cell_type": "code",
      "metadata": {
        "colab": {
          "base_uri": "https://localhost:8080/"
        },
        "id": "_N3aCWnX0jM1",
        "outputId": "ba7c3b4b-b90a-4d83-a04f-56c1a357b1ee"
      },
      "source": [
        "response = bot.get_response('what is your name')\n",
        "\n",
        "print(\"Bot Response:\", response)"
      ],
      "execution_count": null,
      "outputs": [
        {
          "output_type": "stream",
          "text": [
            "Bot Response: The current time is 04:21 PM\n"
          ],
          "name": "stdout"
        }
      ]
    },
    {
      "cell_type": "code",
      "metadata": {
        "colab": {
          "base_uri": "https://localhost:8080/"
        },
        "id": "TqTocW6002fM",
        "outputId": "dcdac13d-3858-4e25-eada-82883b26f455"
      },
      "source": [
        "\n",
        "print(\"Welcome to the Bot Service! Let me know  your personal details?\")\n",
        "print(\"what is your name?\")\n",
        "name=input(\"Enter Your Name: \")\n",
        "print(\"what is your address?\")\n",
        "address=input('enter your address:')\n",
        "print(\"What is your DOB?\")\n",
        "DOB=input(\"Enter your DOB:\")\n",
        "print(\"What is your gender?\")\n",
        "Gender=input(\"enter your gender:\")\n",
        "while True:\n",
        "    request=input(name+':')\n",
        "    if request=='Bye' or request =='bye':\n",
        "        print('Bot: Bye')\n",
        "        break\n",
        "    else:\n",
        "        response=bot.get_response(request)\n",
        "        print('Bot:',response)"
      ],
      "execution_count": null,
      "outputs": [
        {
          "output_type": "stream",
          "text": [
            "Welcome to the Bot Service! Let me know  your personal details?\n",
            "what is your name?\n",
            "Enter Your Name: swetha\n",
            "what is your address?\n",
            "enter your address:cbe\n",
            "What is your DOB?\n",
            "Enter your DOB:12/12/2001\n",
            "What is your gender?\n",
            "enter your gender:female\n",
            "swetha:bye\n",
            "Bot: Bye\n"
          ],
          "name": "stdout"
        }
      ]
    }
  ]
}